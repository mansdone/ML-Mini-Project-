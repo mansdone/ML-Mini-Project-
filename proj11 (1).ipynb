{
  "nbformat": 4,
  "nbformat_minor": 0,
  "metadata": {
    "colab": {
      "provenance": []
    },
    "kernelspec": {
      "name": "python3",
      "display_name": "Python 3"
    },
    "language_info": {
      "name": "python"
    }
  },
  "cells": [
    {
      "cell_type": "code",
      "execution_count": 1,
      "metadata": {
        "colab": {
          "base_uri": "https://localhost:8080/"
        },
        "id": "da0Luzf-T-Dg",
        "outputId": "8579c772-0f94-4a43-812f-0cef34a85e47"
      },
      "outputs": [
        {
          "output_type": "stream",
          "name": "stdout",
          "text": [
            "Collecting quickdraw\n",
            "  Downloading quickdraw-1.0.0-py3-none-any.whl.metadata (1.3 kB)\n",
            "Requirement already satisfied: pillow in /usr/local/lib/python3.12/dist-packages (from quickdraw) (11.3.0)\n",
            "Requirement already satisfied: requests in /usr/local/lib/python3.12/dist-packages (from quickdraw) (2.32.4)\n",
            "Requirement already satisfied: charset_normalizer<4,>=2 in /usr/local/lib/python3.12/dist-packages (from requests->quickdraw) (3.4.3)\n",
            "Requirement already satisfied: idna<4,>=2.5 in /usr/local/lib/python3.12/dist-packages (from requests->quickdraw) (3.10)\n",
            "Requirement already satisfied: urllib3<3,>=1.21.1 in /usr/local/lib/python3.12/dist-packages (from requests->quickdraw) (2.5.0)\n",
            "Requirement already satisfied: certifi>=2017.4.17 in /usr/local/lib/python3.12/dist-packages (from requests->quickdraw) (2025.10.5)\n",
            "Downloading quickdraw-1.0.0-py3-none-any.whl (11 kB)\n",
            "Installing collected packages: quickdraw\n",
            "Successfully installed quickdraw-1.0.0\n",
            "Libraries imported successfully.\n"
          ]
        }
      ],
      "source": [
        "# Install the quickdraw library for easy dataset access\n",
        "!pip install quickdraw\n",
        "\n",
        "# Import necessary libraries\n",
        "import os\n",
        "import numpy as np\n",
        "import tensorflow as tf\n",
        "from tensorflow import keras\n",
        "from keras import layers\n",
        "from sklearn.model_selection import train_test_split\n",
        "from sklearn.linear_model import LogisticRegression\n",
        "from sklearn.svm import SVC\n",
        "from sklearn.metrics import accuracy_score, confusion_matrix\n",
        "import matplotlib.pyplot as plt\n",
        "import seaborn as sns\n",
        "import time\n",
        "\n",
        "# For downloading the dataset\n",
        "from quickdraw import QuickDrawData\n",
        "\n",
        "print(\"Libraries imported successfully.\")"
      ]
    },
    {
      "cell_type": "code",
      "source": [
        "import os\n",
        "\n",
        "# Go to root workspace (safe place to store data)\n",
        "%cd /content\n",
        "\n",
        "# Create a folder for data\n",
        "os.makedirs(\"quickdraw_data\", exist_ok=True)\n",
        "%cd quickdraw_data\n"
      ],
      "metadata": {
        "colab": {
          "base_uri": "https://localhost:8080/"
        },
        "id": "vBcEei35UZ0X",
        "outputId": "daeec2c6-f642-428a-bee7-ac1921721db9"
      },
      "execution_count": 2,
      "outputs": [
        {
          "output_type": "stream",
          "name": "stdout",
          "text": [
            "/content\n",
            "/content/quickdraw_data\n"
          ]
        }
      ]
    },
    {
      "cell_type": "code",
      "source": [
        "# ==========================================\n",
        "# ✅ Step 2: Load and preprocess QuickDraw data\n",
        "# ==========================================\n",
        "import os\n",
        "import numpy as np\n",
        "from sklearn.model_selection import train_test_split\n",
        "from PIL import Image\n",
        "\n",
        "# Go to workspace root\n",
        "%cd /content\n",
        "\n",
        "# Make folder for data\n",
        "os.makedirs(\"quickdraw_data\", exist_ok=True)\n",
        "%cd quickdraw_data\n",
        "\n",
        "# Choose classes (10 for now)\n",
        "class_names = [\n",
        "    \"cat\", \"dog\", \"car\", \"tree\", \"sun\",\n",
        "    \"bicycle\", \"house\", \"star\", \"cloud\", \"apple\"\n",
        "]\n",
        "print(f\"Working with {len(class_names)} classes: {class_names}\")\n",
        "\n",
        "# Download 10 bitmap files (.npy) directly from Google Cloud Storage\n",
        "base_url = \"https://storage.googleapis.com/quickdraw_dataset/full/numpy_bitmap/\"\n",
        "for name in class_names:\n",
        "    fname = name.replace(\" \", \"%20\")\n",
        "    local_file = f\"{name}.npy\"\n",
        "    if not os.path.exists(local_file):\n",
        "        print(f\"Downloading {name}...\")\n",
        "        os.system(f\"wget -q {base_url}{fname}.npy -O '{local_file}'\")\n",
        "\n",
        "%cd /content\n",
        "\n",
        "# Load and preprocess\n",
        "def load_quickdraw(classes, samples_per_class=20000):\n",
        "    X, y = [], []\n",
        "    for idx, c in enumerate(classes):\n",
        "        path = f\"quickdraw_data/{c}.npy\"\n",
        "        data = np.load(path)\n",
        "        data = data[:samples_per_class]              # 20k per class\n",
        "        X.append(data)\n",
        "        y.append(np.full(data.shape[0], idx))\n",
        "    X = np.concatenate(X)\n",
        "    y = np.concatenate(y)\n",
        "    X = X.reshape(-1, 28, 28, 1).astype(\"float32\") / 255.0  # normalize 0–1\n",
        "    return X, y\n",
        "\n",
        "X, y = load_quickdraw(class_names)\n",
        "\n",
        "print(f\"Loaded dataset: X={X.shape}, y={y.shape}\")\n",
        "\n",
        "# Split into train/validation/test sets (80/10/10)\n",
        "X_train, X_temp, y_train, y_temp = train_test_split(X, y, test_size=0.2, stratify=y)\n",
        "X_val, X_test, y_val, y_test = train_test_split(X_temp, y_temp, test_size=0.5, stratify=y_temp)\n",
        "\n",
        "print(\"Train:\", X_train.shape, \"Val:\", X_val.shape, \"Test:\", X_test.shape)\n"
      ],
      "metadata": {
        "colab": {
          "base_uri": "https://localhost:8080/"
        },
        "id": "J7SXVv1IUDYK",
        "outputId": "12c6e121-dead-4e9d-b3bf-319df670ef86"
      },
      "execution_count": 3,
      "outputs": [
        {
          "output_type": "stream",
          "name": "stdout",
          "text": [
            "/content\n",
            "/content/quickdraw_data\n",
            "Working with 10 classes: ['cat', 'dog', 'car', 'tree', 'sun', 'bicycle', 'house', 'star', 'cloud', 'apple']\n",
            "Downloading cat...\n",
            "Downloading dog...\n",
            "Downloading car...\n",
            "Downloading tree...\n",
            "Downloading sun...\n",
            "Downloading bicycle...\n",
            "Downloading house...\n",
            "Downloading star...\n",
            "Downloading cloud...\n",
            "Downloading apple...\n",
            "/content\n",
            "Loaded dataset: X=(200000, 28, 28, 1), y=(200000,)\n",
            "Train: (160000, 28, 28, 1) Val: (20000, 28, 28, 1) Test: (20000, 28, 28, 1)\n"
          ]
        }
      ]
    },
    {
      "cell_type": "code",
      "source": [
        "!ls"
      ],
      "metadata": {
        "colab": {
          "base_uri": "https://localhost:8080/"
        },
        "id": "J6uIugdTUM7X",
        "outputId": "585b0563-3091-42fb-a289-181f35b80064"
      },
      "execution_count": 4,
      "outputs": [
        {
          "output_type": "stream",
          "name": "stdout",
          "text": [
            "quickdraw_data\tsample_data\n"
          ]
        }
      ]
    },
    {
      "cell_type": "code",
      "source": [
        "# Split data into training (80%) and a temporary set (20%)\n",
        "X_train, X_temp, y_train, y_temp = train_test_split(\n",
        "    X, y, test_size=0.2, random_state=42, stratify=y\n",
        ")\n",
        "\n",
        "# Split the temporary set into validation (10%) and test (10%)\n",
        "X_val, X_test, y_val, y_test = train_test_split(\n",
        "    X_temp, y_temp, test_size=0.5, random_state=42, stratify=y_temp\n",
        ")\n",
        "\n",
        "print(f\"Training set size: {len(X_train)}\")\n",
        "print(f\"Validation set size: {len(X_val)}\")\n",
        "print(f\"Test set size: {len(X_test)}\")"
      ],
      "metadata": {
        "colab": {
          "base_uri": "https://localhost:8080/"
        },
        "id": "V0RYo9HlU5hZ",
        "outputId": "a18a1c7c-30c3-4ff0-b934-3a610fe4ca79"
      },
      "execution_count": 5,
      "outputs": [
        {
          "output_type": "stream",
          "name": "stdout",
          "text": [
            "Training set size: 160000\n",
            "Validation set size: 20000\n",
            "Test set size: 20000\n"
          ]
        }
      ]
    },
    {
      "cell_type": "code",
      "source": [
        "# Binarize the pixel data as mentioned in the paper [cite: 45]\n",
        "# We'll use a threshold of 0.5; pixels > 0.5 become 1, else 0.\n",
        "X_train_bin = (X_train > 0.5).astype(np.float32)\n",
        "X_val_bin = (X_val > 0.5).astype(np.float32)\n",
        "X_test_bin = (X_test > 0.5).astype(np.float32)\n",
        "\n",
        "# Reshape data for classical ML models (flatten the 28x28 images)\n",
        "X_train_flat = X_train.reshape(X_train.shape[0], -1)\n",
        "X_val_flat = X_val.reshape(X_val.shape[0], -1)\n",
        "X_train_bin_flat = X_train_bin.reshape(X_train_bin.shape[0], -1)\n",
        "X_val_bin_flat = X_val_bin.reshape(X_val_bin.shape[0], -1)\n",
        "\n",
        "# Reshape data for CNNs (add a channel dimension)\n",
        "X_train_cnn = X_train[..., np.newaxis]\n",
        "X_val_cnn = X_val[..., np.newaxis]\n",
        "X_test_cnn = X_test[..., np.newaxis]\n",
        "X_train_bin_cnn = X_train_bin[..., np.newaxis]\n",
        "X_val_bin_cnn = X_val_bin[..., np.newaxis]\n",
        "X_test_bin_cnn = X_test_bin[..., np.newaxis]\n",
        "\n",
        "# One-hot encode labels for deep learning models\n",
        "num_classes = len(class_names) # Define num_classes here\n",
        "y_train_cat = keras.utils.to_categorical(y_train, num_classes)\n",
        "y_val_cat = keras.utils.to_categorical(y_val, num_classes)\n",
        "y_test_cat = keras.utils.to_categorical(y_test, num_classes)\n",
        "\n",
        "print(\"Data successfully reshaped and prepared for all models.\")\n",
        "print(f\"Shape for classical models (e.g., Logistic Regression): {X_train_flat.shape}\")\n",
        "print(f\"Shape for CNNs: {X_train_cnn.shape}\")"
      ],
      "metadata": {
        "colab": {
          "base_uri": "https://localhost:8080/"
        },
        "id": "KVEV4HtcVBhS",
        "outputId": "217d74c9-6c0e-41a2-9581-950f082ea650"
      },
      "execution_count": 7,
      "outputs": [
        {
          "output_type": "stream",
          "name": "stdout",
          "text": [
            "Data successfully reshaped and prepared for all models.\n",
            "Shape for classical models (e.g., Logistic Regression): (160000, 784)\n",
            "Shape for CNNs: (160000, 28, 28, 1, 1)\n"
          ]
        }
      ]
    },
    {
      "cell_type": "code",
      "source": [
        "print(\"--- Training Logistic Regression ---\")\n",
        "\n",
        "# Initialize the model with parameters from the paper\n",
        "log_reg = LogisticRegression(\n",
        "    solver='lbfgs',\n",
        "    multi_class='multinomial',\n",
        "    max_iter=100,  # As specified in the paper [cite: 132]\n",
        "    random_state=42,\n",
        "    verbose=1\n",
        ")\n",
        "\n",
        "# Measure training time\n",
        "start_time = time.time()\n",
        "log_reg.fit(X_train_flat, y_train)\n",
        "end_time = time.time()\n",
        "training_time = end_time - start_time\n",
        "\n",
        "# Evaluate on the validation set\n",
        "y_pred_val = log_reg.predict(X_val_flat)\n",
        "accuracy = accuracy_score(y_val, y_pred_val)\n",
        "\n",
        "print(\"\\n--- Logistic Regression Results ---\")\n",
        "print(f\"Validation Accuracy: {accuracy * 100:.2f}%\")\n",
        "print(f\"Training Time: {training_time:.2f} seconds\")"
      ],
      "metadata": {
        "colab": {
          "base_uri": "https://localhost:8080/"
        },
        "id": "_Ds63DRHVEBi",
        "outputId": "5bf5370b-8b06-4a6c-ae8c-3e775d7bff5b"
      },
      "execution_count": 8,
      "outputs": [
        {
          "output_type": "stream",
          "name": "stdout",
          "text": [
            "--- Training Logistic Regression ---\n"
          ]
        },
        {
          "output_type": "stream",
          "name": "stderr",
          "text": [
            "/usr/local/lib/python3.12/dist-packages/sklearn/linear_model/_logistic.py:1247: FutureWarning: 'multi_class' was deprecated in version 1.5 and will be removed in 1.7. From then on, it will always use 'multinomial'. Leave it to its default value to avoid this warning.\n",
            "  warnings.warn(\n"
          ]
        },
        {
          "output_type": "stream",
          "name": "stdout",
          "text": [
            "\n",
            "--- Logistic Regression Results ---\n",
            "Validation Accuracy: 77.88%\n",
            "Training Time: 97.93 seconds\n"
          ]
        },
        {
          "output_type": "stream",
          "name": "stderr",
          "text": [
            "/usr/local/lib/python3.12/dist-packages/sklearn/linear_model/_logistic.py:465: ConvergenceWarning: lbfgs failed to converge (status=1):\n",
            "STOP: TOTAL NO. OF ITERATIONS REACHED LIMIT.\n",
            "\n",
            "Increase the number of iterations (max_iter) or scale the data as shown in:\n",
            "    https://scikit-learn.org/stable/modules/preprocessing.html\n",
            "Please also refer to the documentation for alternative solver options:\n",
            "    https://scikit-learn.org/stable/modules/linear_model.html#logistic-regression\n",
            "  n_iter_i = _check_optimize_result(\n",
            "[Parallel(n_jobs=1)]: Done   1 out of   1 | elapsed:  1.6min finished\n"
          ]
        }
      ]
    },
    {
      "cell_type": "code",
      "source": [
        "# The paper used non-binarized data and normalized inputs for SVMs\n",
        "# Our data is already normalized between [0, 1].\n",
        "\n",
        "kernels = ['linear', 'rbf', 'poly', 'sigmoid']\n",
        "svm_results = {}\n",
        "\n",
        "for kernel in kernels:\n",
        "    print(f\"--- Training SVM with {kernel.upper()} Kernel ---\")\n",
        "\n",
        "    # Initialize SVM\n",
        "    # Note: Training SVM on this much data can be very slow.\n",
        "    # We will use a smaller subset for a quick demonstration.\n",
        "    # For a full reproduction, run this on the entire training set.\n",
        "    subset_size = 10000\n",
        "    X_train_svm_subset = X_train_flat[:subset_size]\n",
        "    y_train_svm_subset = y_train[:subset_size]\n",
        "\n",
        "    svm_model = SVC(kernel=kernel, random_state=42, gamma='scale')\n",
        "\n",
        "    # Measure training time\n",
        "    start_time = time.time()\n",
        "    svm_model.fit(X_train_svm_subset, y_train_svm_subset)\n",
        "    end_time = time.time()\n",
        "    training_time = end_time - start_time\n",
        "\n",
        "    # Evaluate on the validation set\n",
        "    y_pred_svm = svm_model.predict(X_val_flat)\n",
        "    accuracy = accuracy_score(y_val, y_pred_svm)\n",
        "\n",
        "    svm_results[kernel] = {'accuracy': accuracy, 'time': training_time}\n",
        "\n",
        "    print(f\"Validation Accuracy: {accuracy * 100:.2f}%\")\n",
        "    print(f\"Training Time: {training_time:.2f} seconds\\n\")\n",
        "\n",
        "print(\"\\n--- SVM Results Summary ---\")\n",
        "for kernel, result in svm_results.items():\n",
        "    print(f\"Kernel: {kernel.upper()}, Accuracy: {result['accuracy']*100:.2f}%, Time: {result['time']:.2f}s\")"
      ],
      "metadata": {
        "colab": {
          "base_uri": "https://localhost:8080/"
        },
        "id": "4B3zdlJjVF51",
        "outputId": "e9e04e42-7a7b-4778-bb28-0609e077084a"
      },
      "execution_count": 9,
      "outputs": [
        {
          "output_type": "stream",
          "name": "stdout",
          "text": [
            "--- Training SVM with LINEAR Kernel ---\n",
            "Validation Accuracy: 69.08%\n",
            "Training Time: 26.42 seconds\n",
            "\n",
            "--- Training SVM with RBF Kernel ---\n",
            "Validation Accuracy: 83.75%\n",
            "Training Time: 26.49 seconds\n",
            "\n",
            "--- Training SVM with POLY Kernel ---\n",
            "Validation Accuracy: 84.10%\n",
            "Training Time: 32.74 seconds\n",
            "\n",
            "--- Training SVM with SIGMOID Kernel ---\n",
            "Validation Accuracy: 69.19%\n",
            "Training Time: 23.25 seconds\n",
            "\n",
            "\n",
            "--- SVM Results Summary ---\n",
            "Kernel: LINEAR, Accuracy: 69.08%, Time: 26.42s\n",
            "Kernel: RBF, Accuracy: 83.75%, Time: 26.49s\n",
            "Kernel: POLY, Accuracy: 84.10%, Time: 32.74s\n",
            "Kernel: SIGMOID, Accuracy: 69.19%, Time: 23.25s\n"
          ]
        }
      ]
    },
    {
      "cell_type": "code",
      "source": [
        "def create_cnn_v1(input_shape, num_classes):\n",
        "    # V1: Full CNN as per Figure 2 [cite: 73]\n",
        "    # Conv -> MaxPool -> Conv -> MaxPool -> Flatten -> Dense(128) -> Dense(Softmax)\n",
        "    model = keras.Sequential([\n",
        "        layers.Input(shape=input_shape),\n",
        "        layers.Conv2D(32, kernel_size=(3, 3), activation=\"relu\"),\n",
        "        layers.MaxPooling2D(pool_size=(2, 2)),\n",
        "        layers.Conv2D(64, kernel_size=(3, 3), activation=\"relu\"),\n",
        "        layers.MaxPooling2D(pool_size=(2, 2)),\n",
        "        layers.Flatten(),\n",
        "        layers.Dense(128, activation=\"relu\"), # Dense layer with 128 units [cite: 66]\n",
        "        layers.Dense(num_classes, activation=\"softmax\")\n",
        "    ])\n",
        "    return model\n",
        "\n",
        "def create_cnn_v2(input_shape, num_classes):\n",
        "    # V2: Remove the second Convolutional Layer (and its Max Pool) [cite: 88]\n",
        "    model = keras.Sequential([\n",
        "        layers.Input(shape=input_shape),\n",
        "        layers.Conv2D(32, kernel_size=(3, 3), activation=\"relu\"),\n",
        "        layers.MaxPooling2D(pool_size=(2, 2)),\n",
        "        layers.Flatten(),\n",
        "        layers.Dense(128, activation=\"relu\"),\n",
        "        layers.Dense(num_classes, activation=\"softmax\")\n",
        "    ])\n",
        "    return model\n",
        "\n",
        "def create_cnn_v3(input_shape, num_classes):\n",
        "    # V3: Remove the second Max Pool Layer [cite: 87]\n",
        "    model = keras.Sequential([\n",
        "        layers.Input(shape=input_shape),\n",
        "        layers.Conv2D(32, kernel_size=(3, 3), activation=\"relu\"),\n",
        "        layers.MaxPooling2D(pool_size=(2, 2)),\n",
        "        layers.Conv2D(64, kernel_size=(3, 3), activation=\"relu\"),\n",
        "        # No second max pool layer\n",
        "        layers.Flatten(),\n",
        "        layers.Dense(128, activation=\"relu\"),\n",
        "        layers.Dense(num_classes, activation=\"softmax\")\n",
        "    ])\n",
        "    return model\n",
        "\n",
        "def create_cnn_v4(input_shape, num_classes):\n",
        "    # V4: Decrease number of dense units from 128 to 64 [cite: 79]\n",
        "    model = keras.Sequential([\n",
        "        layers.Input(shape=input_shape),\n",
        "        layers.Conv2D(32, kernel_size=(3, 3), activation=\"relu\"),\n",
        "        layers.MaxPooling2D(pool_size=(2, 2)),\n",
        "        layers.Conv2D(64, kernel_size=(3, 3), activation=\"relu\"),\n",
        "        layers.MaxPooling2D(pool_size=(2, 2)),\n",
        "        layers.Flatten(),\n",
        "        layers.Dense(64, activation=\"relu\"), # Dense units reduced to 64\n",
        "        layers.Dense(num_classes, activation=\"softmax\")\n",
        "    ])\n",
        "    return model\n",
        "\n",
        "print(\"CNN model creation functions are defined.\")"
      ],
      "metadata": {
        "id": "dosQf32EVKWo",
        "colab": {
          "base_uri": "https://localhost:8080/"
        },
        "outputId": "c60c007b-e8b4-4f0c-c4a8-8ebed07e3e04"
      },
      "execution_count": 11,
      "outputs": [
        {
          "output_type": "stream",
          "name": "stdout",
          "text": [
            "CNN model creation functions are defined.\n"
          ]
        }
      ]
    },
    {
      "cell_type": "code",
      "source": [
        "# Parameters for training\n",
        "epochs = 20 # The paper ran for 100 iterations/epochs, but 20 is sufficient for a good result\n",
        "batch_size = 128\n",
        "input_shape = X_train_cnn.shape[1:-1] # Remove the extra dimension\n",
        "\n",
        "# Create and compile the best model, V2\n",
        "cnn_v2 = create_cnn_v2(input_shape, num_classes)\n",
        "cnn_v2.compile(optimizer=\"adam\", loss=\"categorical_crossentropy\", metrics=[\"accuracy\"])\n",
        "cnn_v2.summary()\n",
        "\n",
        "print(\"\\n--- Training CNN V2 on Non-Binarized Data ---\")\n",
        "start_time = time.time()\n",
        "history = cnn_v2.fit(\n",
        "    X_train_cnn, y_train_cat,\n",
        "    batch_size=batch_size,\n",
        "    epochs=epochs,\n",
        "    validation_data=(X_val_cnn, y_val_cat)\n",
        ")\n",
        "end_time = time.time()\n",
        "cnn_training_time = end_time - start_time\n",
        "\n",
        "# Evaluate final performance on the test set\n",
        "test_loss, test_acc = cnn_v2.evaluate(X_test_cnn, y_test_cat, verbose=2)\n",
        "\n",
        "print(\"\\n--- CNN V2 Results ---\")\n",
        "print(f\"Test Accuracy: {test_acc * 100:.2f}%\")\n",
        "print(f\"Training Time: {cnn_training_time:.2f} seconds\")\n",
        "\n",
        "# Plot training history\n",
        "pd.DataFrame(history.history).plot(figsize=(8, 5))\n",
        "plt.grid(True)\n",
        "plt.gca().set_ylim(0, 1.5)\n",
        "plt.title(\"CNN V2 Training Loss and Accuracy\")\n",
        "plt.xlabel(\"Epoch #\")\n",
        "plt.ylabel(\"Loss/Accuracy\")\n",
        "plt.show()"
      ],
      "metadata": {
        "id": "HfE0_pVBVNLY",
        "colab": {
          "base_uri": "https://localhost:8080/",
          "height": 1000
        },
        "outputId": "c5fd9393-ae74-4c31-f97c-7d5d4679daa8"
      },
      "execution_count": 13,
      "outputs": [
        {
          "output_type": "display_data",
          "data": {
            "text/plain": [
              "\u001b[1mModel: \"sequential_1\"\u001b[0m\n"
            ],
            "text/html": [
              "<pre style=\"white-space:pre;overflow-x:auto;line-height:normal;font-family:Menlo,'DejaVu Sans Mono',consolas,'Courier New',monospace\"><span style=\"font-weight: bold\">Model: \"sequential_1\"</span>\n",
              "</pre>\n"
            ]
          },
          "metadata": {}
        },
        {
          "output_type": "display_data",
          "data": {
            "text/plain": [
              "┏━━━━━━━━━━━━━━━━━━━━━━━━━━━━━━━━━┳━━━━━━━━━━━━━━━━━━━━━━━━┳━━━━━━━━━━━━━━━┓\n",
              "┃\u001b[1m \u001b[0m\u001b[1mLayer (type)                   \u001b[0m\u001b[1m \u001b[0m┃\u001b[1m \u001b[0m\u001b[1mOutput Shape          \u001b[0m\u001b[1m \u001b[0m┃\u001b[1m \u001b[0m\u001b[1m      Param #\u001b[0m\u001b[1m \u001b[0m┃\n",
              "┡━━━━━━━━━━━━━━━━━━━━━━━━━━━━━━━━━╇━━━━━━━━━━━━━━━━━━━━━━━━╇━━━━━━━━━━━━━━━┩\n",
              "│ conv2d_1 (\u001b[38;5;33mConv2D\u001b[0m)               │ (\u001b[38;5;45mNone\u001b[0m, \u001b[38;5;34m26\u001b[0m, \u001b[38;5;34m26\u001b[0m, \u001b[38;5;34m32\u001b[0m)     │           \u001b[38;5;34m320\u001b[0m │\n",
              "├─────────────────────────────────┼────────────────────────┼───────────────┤\n",
              "│ max_pooling2d_1 (\u001b[38;5;33mMaxPooling2D\u001b[0m)  │ (\u001b[38;5;45mNone\u001b[0m, \u001b[38;5;34m13\u001b[0m, \u001b[38;5;34m13\u001b[0m, \u001b[38;5;34m32\u001b[0m)     │             \u001b[38;5;34m0\u001b[0m │\n",
              "├─────────────────────────────────┼────────────────────────┼───────────────┤\n",
              "│ flatten_1 (\u001b[38;5;33mFlatten\u001b[0m)             │ (\u001b[38;5;45mNone\u001b[0m, \u001b[38;5;34m5408\u001b[0m)           │             \u001b[38;5;34m0\u001b[0m │\n",
              "├─────────────────────────────────┼────────────────────────┼───────────────┤\n",
              "│ dense_2 (\u001b[38;5;33mDense\u001b[0m)                 │ (\u001b[38;5;45mNone\u001b[0m, \u001b[38;5;34m128\u001b[0m)            │       \u001b[38;5;34m692,352\u001b[0m │\n",
              "├─────────────────────────────────┼────────────────────────┼───────────────┤\n",
              "│ dense_3 (\u001b[38;5;33mDense\u001b[0m)                 │ (\u001b[38;5;45mNone\u001b[0m, \u001b[38;5;34m10\u001b[0m)             │         \u001b[38;5;34m1,290\u001b[0m │\n",
              "└─────────────────────────────────┴────────────────────────┴───────────────┘\n"
            ],
            "text/html": [
              "<pre style=\"white-space:pre;overflow-x:auto;line-height:normal;font-family:Menlo,'DejaVu Sans Mono',consolas,'Courier New',monospace\">┏━━━━━━━━━━━━━━━━━━━━━━━━━━━━━━━━━┳━━━━━━━━━━━━━━━━━━━━━━━━┳━━━━━━━━━━━━━━━┓\n",
              "┃<span style=\"font-weight: bold\"> Layer (type)                    </span>┃<span style=\"font-weight: bold\"> Output Shape           </span>┃<span style=\"font-weight: bold\">       Param # </span>┃\n",
              "┡━━━━━━━━━━━━━━━━━━━━━━━━━━━━━━━━━╇━━━━━━━━━━━━━━━━━━━━━━━━╇━━━━━━━━━━━━━━━┩\n",
              "│ conv2d_1 (<span style=\"color: #0087ff; text-decoration-color: #0087ff\">Conv2D</span>)               │ (<span style=\"color: #00d7ff; text-decoration-color: #00d7ff\">None</span>, <span style=\"color: #00af00; text-decoration-color: #00af00\">26</span>, <span style=\"color: #00af00; text-decoration-color: #00af00\">26</span>, <span style=\"color: #00af00; text-decoration-color: #00af00\">32</span>)     │           <span style=\"color: #00af00; text-decoration-color: #00af00\">320</span> │\n",
              "├─────────────────────────────────┼────────────────────────┼───────────────┤\n",
              "│ max_pooling2d_1 (<span style=\"color: #0087ff; text-decoration-color: #0087ff\">MaxPooling2D</span>)  │ (<span style=\"color: #00d7ff; text-decoration-color: #00d7ff\">None</span>, <span style=\"color: #00af00; text-decoration-color: #00af00\">13</span>, <span style=\"color: #00af00; text-decoration-color: #00af00\">13</span>, <span style=\"color: #00af00; text-decoration-color: #00af00\">32</span>)     │             <span style=\"color: #00af00; text-decoration-color: #00af00\">0</span> │\n",
              "├─────────────────────────────────┼────────────────────────┼───────────────┤\n",
              "│ flatten_1 (<span style=\"color: #0087ff; text-decoration-color: #0087ff\">Flatten</span>)             │ (<span style=\"color: #00d7ff; text-decoration-color: #00d7ff\">None</span>, <span style=\"color: #00af00; text-decoration-color: #00af00\">5408</span>)           │             <span style=\"color: #00af00; text-decoration-color: #00af00\">0</span> │\n",
              "├─────────────────────────────────┼────────────────────────┼───────────────┤\n",
              "│ dense_2 (<span style=\"color: #0087ff; text-decoration-color: #0087ff\">Dense</span>)                 │ (<span style=\"color: #00d7ff; text-decoration-color: #00d7ff\">None</span>, <span style=\"color: #00af00; text-decoration-color: #00af00\">128</span>)            │       <span style=\"color: #00af00; text-decoration-color: #00af00\">692,352</span> │\n",
              "├─────────────────────────────────┼────────────────────────┼───────────────┤\n",
              "│ dense_3 (<span style=\"color: #0087ff; text-decoration-color: #0087ff\">Dense</span>)                 │ (<span style=\"color: #00d7ff; text-decoration-color: #00d7ff\">None</span>, <span style=\"color: #00af00; text-decoration-color: #00af00\">10</span>)             │         <span style=\"color: #00af00; text-decoration-color: #00af00\">1,290</span> │\n",
              "└─────────────────────────────────┴────────────────────────┴───────────────┘\n",
              "</pre>\n"
            ]
          },
          "metadata": {}
        },
        {
          "output_type": "display_data",
          "data": {
            "text/plain": [
              "\u001b[1m Total params: \u001b[0m\u001b[38;5;34m693,962\u001b[0m (2.65 MB)\n"
            ],
            "text/html": [
              "<pre style=\"white-space:pre;overflow-x:auto;line-height:normal;font-family:Menlo,'DejaVu Sans Mono',consolas,'Courier New',monospace\"><span style=\"font-weight: bold\"> Total params: </span><span style=\"color: #00af00; text-decoration-color: #00af00\">693,962</span> (2.65 MB)\n",
              "</pre>\n"
            ]
          },
          "metadata": {}
        },
        {
          "output_type": "display_data",
          "data": {
            "text/plain": [
              "\u001b[1m Trainable params: \u001b[0m\u001b[38;5;34m693,962\u001b[0m (2.65 MB)\n"
            ],
            "text/html": [
              "<pre style=\"white-space:pre;overflow-x:auto;line-height:normal;font-family:Menlo,'DejaVu Sans Mono',consolas,'Courier New',monospace\"><span style=\"font-weight: bold\"> Trainable params: </span><span style=\"color: #00af00; text-decoration-color: #00af00\">693,962</span> (2.65 MB)\n",
              "</pre>\n"
            ]
          },
          "metadata": {}
        },
        {
          "output_type": "display_data",
          "data": {
            "text/plain": [
              "\u001b[1m Non-trainable params: \u001b[0m\u001b[38;5;34m0\u001b[0m (0.00 B)\n"
            ],
            "text/html": [
              "<pre style=\"white-space:pre;overflow-x:auto;line-height:normal;font-family:Menlo,'DejaVu Sans Mono',consolas,'Courier New',monospace\"><span style=\"font-weight: bold\"> Non-trainable params: </span><span style=\"color: #00af00; text-decoration-color: #00af00\">0</span> (0.00 B)\n",
              "</pre>\n"
            ]
          },
          "metadata": {}
        },
        {
          "output_type": "stream",
          "name": "stdout",
          "text": [
            "\n",
            "--- Training CNN V2 on Non-Binarized Data ---\n",
            "Epoch 1/20\n",
            "\u001b[1m1250/1250\u001b[0m \u001b[32m━━━━━━━━━━━━━━━━━━━━\u001b[0m\u001b[37m\u001b[0m \u001b[1m84s\u001b[0m 66ms/step - accuracy: 0.8301 - loss: 0.5565 - val_accuracy: 0.9104 - val_loss: 0.2922\n",
            "Epoch 2/20\n",
            "\u001b[1m1250/1250\u001b[0m \u001b[32m━━━━━━━━━━━━━━━━━━━━\u001b[0m\u001b[37m\u001b[0m \u001b[1m138s\u001b[0m 63ms/step - accuracy: 0.9203 - loss: 0.2566 - val_accuracy: 0.9252 - val_loss: 0.2410\n",
            "Epoch 3/20\n",
            "\u001b[1m1250/1250\u001b[0m \u001b[32m━━━━━━━━━━━━━━━━━━━━\u001b[0m\u001b[37m\u001b[0m \u001b[1m83s\u001b[0m 64ms/step - accuracy: 0.9374 - loss: 0.1981 - val_accuracy: 0.9270 - val_loss: 0.2333\n",
            "Epoch 4/20\n",
            "\u001b[1m1250/1250\u001b[0m \u001b[32m━━━━━━━━━━━━━━━━━━━━\u001b[0m\u001b[37m\u001b[0m \u001b[1m80s\u001b[0m 63ms/step - accuracy: 0.9460 - loss: 0.1710 - val_accuracy: 0.9288 - val_loss: 0.2260\n",
            "Epoch 5/20\n",
            "\u001b[1m1250/1250\u001b[0m \u001b[32m━━━━━━━━━━━━━━━━━━━━\u001b[0m\u001b[37m\u001b[0m \u001b[1m85s\u001b[0m 65ms/step - accuracy: 0.9558 - loss: 0.1362 - val_accuracy: 0.9313 - val_loss: 0.2189\n",
            "Epoch 6/20\n",
            "\u001b[1m1250/1250\u001b[0m \u001b[32m━━━━━━━━━━━━━━━━━━━━\u001b[0m\u001b[37m\u001b[0m \u001b[1m79s\u001b[0m 63ms/step - accuracy: 0.9644 - loss: 0.1096 - val_accuracy: 0.9322 - val_loss: 0.2331\n",
            "Epoch 7/20\n",
            "\u001b[1m1250/1250\u001b[0m \u001b[32m━━━━━━━━━━━━━━━━━━━━\u001b[0m\u001b[37m\u001b[0m \u001b[1m83s\u001b[0m 64ms/step - accuracy: 0.9724 - loss: 0.0861 - val_accuracy: 0.9296 - val_loss: 0.2489\n",
            "Epoch 8/20\n",
            "\u001b[1m1250/1250\u001b[0m \u001b[32m━━━━━━━━━━━━━━━━━━━━\u001b[0m\u001b[37m\u001b[0m \u001b[1m79s\u001b[0m 64ms/step - accuracy: 0.9797 - loss: 0.0653 - val_accuracy: 0.9253 - val_loss: 0.2736\n",
            "Epoch 9/20\n",
            "\u001b[1m1250/1250\u001b[0m \u001b[32m━━━━━━━━━━━━━━━━━━━━\u001b[0m\u001b[37m\u001b[0m \u001b[1m78s\u001b[0m 62ms/step - accuracy: 0.9843 - loss: 0.0506 - val_accuracy: 0.9268 - val_loss: 0.3034\n",
            "Epoch 10/20\n",
            "\u001b[1m1250/1250\u001b[0m \u001b[32m━━━━━━━━━━━━━━━━━━━━\u001b[0m\u001b[37m\u001b[0m \u001b[1m82s\u001b[0m 62ms/step - accuracy: 0.9887 - loss: 0.0368 - val_accuracy: 0.9245 - val_loss: 0.3271\n",
            "Epoch 11/20\n",
            "\u001b[1m1250/1250\u001b[0m \u001b[32m━━━━━━━━━━━━━━━━━━━━\u001b[0m\u001b[37m\u001b[0m \u001b[1m78s\u001b[0m 62ms/step - accuracy: 0.9917 - loss: 0.0271 - val_accuracy: 0.9262 - val_loss: 0.3491\n",
            "Epoch 12/20\n",
            "\u001b[1m1250/1250\u001b[0m \u001b[32m━━━━━━━━━━━━━━━━━━━━\u001b[0m\u001b[37m\u001b[0m \u001b[1m82s\u001b[0m 63ms/step - accuracy: 0.9940 - loss: 0.0209 - val_accuracy: 0.9247 - val_loss: 0.3959\n",
            "Epoch 13/20\n",
            "\u001b[1m1250/1250\u001b[0m \u001b[32m━━━━━━━━━━━━━━━━━━━━\u001b[0m\u001b[37m\u001b[0m \u001b[1m82s\u001b[0m 63ms/step - accuracy: 0.9956 - loss: 0.0160 - val_accuracy: 0.9230 - val_loss: 0.4118\n",
            "Epoch 14/20\n",
            "\u001b[1m1250/1250\u001b[0m \u001b[32m━━━━━━━━━━━━━━━━━━━━\u001b[0m\u001b[37m\u001b[0m \u001b[1m80s\u001b[0m 64ms/step - accuracy: 0.9955 - loss: 0.0154 - val_accuracy: 0.9244 - val_loss: 0.4233\n",
            "Epoch 15/20\n",
            "\u001b[1m1250/1250\u001b[0m \u001b[32m━━━━━━━━━━━━━━━━━━━━\u001b[0m\u001b[37m\u001b[0m \u001b[1m81s\u001b[0m 64ms/step - accuracy: 0.9968 - loss: 0.0123 - val_accuracy: 0.9240 - val_loss: 0.4749\n",
            "Epoch 16/20\n",
            "\u001b[1m1250/1250\u001b[0m \u001b[32m━━━━━━━━━━━━━━━━━━━━\u001b[0m\u001b[37m\u001b[0m \u001b[1m83s\u001b[0m 65ms/step - accuracy: 0.9966 - loss: 0.0116 - val_accuracy: 0.9218 - val_loss: 0.4989\n",
            "Epoch 17/20\n",
            "\u001b[1m1250/1250\u001b[0m \u001b[32m━━━━━━━━━━━━━━━━━━━━\u001b[0m\u001b[37m\u001b[0m \u001b[1m79s\u001b[0m 63ms/step - accuracy: 0.9964 - loss: 0.0115 - val_accuracy: 0.9233 - val_loss: 0.5063\n",
            "Epoch 18/20\n",
            "\u001b[1m1250/1250\u001b[0m \u001b[32m━━━━━━━━━━━━━━━━━━━━\u001b[0m\u001b[37m\u001b[0m \u001b[1m82s\u001b[0m 63ms/step - accuracy: 0.9967 - loss: 0.0106 - val_accuracy: 0.9233 - val_loss: 0.5117\n",
            "Epoch 19/20\n",
            "\u001b[1m1250/1250\u001b[0m \u001b[32m━━━━━━━━━━━━━━━━━━━━\u001b[0m\u001b[37m\u001b[0m \u001b[1m78s\u001b[0m 63ms/step - accuracy: 0.9976 - loss: 0.0082 - val_accuracy: 0.9229 - val_loss: 0.5563\n",
            "Epoch 20/20\n",
            "\u001b[1m1250/1250\u001b[0m \u001b[32m━━━━━━━━━━━━━━━━━━━━\u001b[0m\u001b[37m\u001b[0m \u001b[1m78s\u001b[0m 62ms/step - accuracy: 0.9968 - loss: 0.0091 - val_accuracy: 0.9247 - val_loss: 0.5561\n",
            "625/625 - 4s - 6ms/step - accuracy: 0.9210 - loss: 0.6037\n",
            "\n",
            "--- CNN V2 Results ---\n",
            "Test Accuracy: 92.10%\n",
            "Training Time: 1680.76 seconds\n"
          ]
        },
        {
          "output_type": "error",
          "ename": "NameError",
          "evalue": "name 'pd' is not defined",
          "traceback": [
            "\u001b[0;31m---------------------------------------------------------------------------\u001b[0m",
            "\u001b[0;31mNameError\u001b[0m                                 Traceback (most recent call last)",
            "\u001b[0;32m/tmp/ipython-input-3577534224.py\u001b[0m in \u001b[0;36m<cell line: 0>\u001b[0;34m()\u001b[0m\n\u001b[1;32m     28\u001b[0m \u001b[0;34m\u001b[0m\u001b[0m\n\u001b[1;32m     29\u001b[0m \u001b[0;31m# Plot training history\u001b[0m\u001b[0;34m\u001b[0m\u001b[0;34m\u001b[0m\u001b[0m\n\u001b[0;32m---> 30\u001b[0;31m \u001b[0mpd\u001b[0m\u001b[0;34m.\u001b[0m\u001b[0mDataFrame\u001b[0m\u001b[0;34m(\u001b[0m\u001b[0mhistory\u001b[0m\u001b[0;34m.\u001b[0m\u001b[0mhistory\u001b[0m\u001b[0;34m)\u001b[0m\u001b[0;34m.\u001b[0m\u001b[0mplot\u001b[0m\u001b[0;34m(\u001b[0m\u001b[0mfigsize\u001b[0m\u001b[0;34m=\u001b[0m\u001b[0;34m(\u001b[0m\u001b[0;36m8\u001b[0m\u001b[0;34m,\u001b[0m \u001b[0;36m5\u001b[0m\u001b[0;34m)\u001b[0m\u001b[0;34m)\u001b[0m\u001b[0;34m\u001b[0m\u001b[0;34m\u001b[0m\u001b[0m\n\u001b[0m\u001b[1;32m     31\u001b[0m \u001b[0mplt\u001b[0m\u001b[0;34m.\u001b[0m\u001b[0mgrid\u001b[0m\u001b[0;34m(\u001b[0m\u001b[0;32mTrue\u001b[0m\u001b[0;34m)\u001b[0m\u001b[0;34m\u001b[0m\u001b[0;34m\u001b[0m\u001b[0m\n\u001b[1;32m     32\u001b[0m \u001b[0mplt\u001b[0m\u001b[0;34m.\u001b[0m\u001b[0mgca\u001b[0m\u001b[0;34m(\u001b[0m\u001b[0;34m)\u001b[0m\u001b[0;34m.\u001b[0m\u001b[0mset_ylim\u001b[0m\u001b[0;34m(\u001b[0m\u001b[0;36m0\u001b[0m\u001b[0;34m,\u001b[0m \u001b[0;36m1.5\u001b[0m\u001b[0;34m)\u001b[0m\u001b[0;34m\u001b[0m\u001b[0;34m\u001b[0m\u001b[0m\n",
            "\u001b[0;31mNameError\u001b[0m: name 'pd' is not defined"
          ]
        }
      ]
    },
    {
      "cell_type": "code",
      "source": [
        "# Generate predictions on the test set\n",
        "y_pred_cnn = cnn_v2.predict(X_test_cnn)\n",
        "y_pred_classes = np.argmax(y_pred_cnn, axis=1)\n",
        "\n",
        "# Compute the confusion matrix\n",
        "cm = confusion_matrix(y_test, y_pred_classes)\n",
        "\n",
        "# Normalize the confusion matrix\n",
        "cm_normalized = cm.astype('float') / cm.sum(axis=1)[:, np.newaxis]\n",
        "\n",
        "# Plot the normalized confusion matrix\n",
        "plt.figure(figsize=(10, 8))\n",
        "sns.heatmap(cm_normalized, annot=True, fmt=\".2f\", cmap=\"Blues\",\n",
        "            xticklabels=class_names, yticklabels=class_names)\n",
        "plt.title(\"Normalized Confusion Matrix for CNN V2\")\n",
        "plt.ylabel(\"True label\")\n",
        "plt.xlabel(\"Predicted label\")\n",
        "plt.show()"
      ],
      "metadata": {
        "id": "MljO0JhnVuh5",
        "colab": {
          "base_uri": "https://localhost:8080/",
          "height": 735
        },
        "outputId": "93d7cb82-e0c9-4582-c130-2af127a97859"
      },
      "execution_count": 14,
      "outputs": [
        {
          "output_type": "stream",
          "name": "stdout",
          "text": [
            "\u001b[1m625/625\u001b[0m \u001b[32m━━━━━━━━━━━━━━━━━━━━\u001b[0m\u001b[37m\u001b[0m \u001b[1m9s\u001b[0m 13ms/step\n"
          ]
        },
        {
          "output_type": "display_data",
          "data": {
            "text/plain": [
              "<Figure size 1000x800 with 2 Axes>"
            ],
            "image/png": "[encoded data removed]"
          },
          "metadata": {}
        }
      ]
    }
  ]
}